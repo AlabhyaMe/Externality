{
 "cells": [
  {
   "cell_type": "code",
   "execution_count": 1,
   "metadata": {},
   "outputs": [],
   "source": [
    "import polars as pl\n",
    "import random\n",
    "import numpy as np\n",
    "random.seed(2059)"
   ]
  },
  {
   "cell_type": "code",
   "execution_count": 2,
   "metadata": {},
   "outputs": [],
   "source": [
    "Household_ids = list(range(1, 251))\n",
    "# Generate a random number of people in each household (between 2 and 6)\n",
    "Household_sizes = [random.randint(2, 6) for i in range(250)]\n"
   ]
  },
  {
   "cell_type": "code",
   "execution_count": 3,
   "metadata": {},
   "outputs": [],
   "source": [
    "household_data = pl.DataFrame(\n",
    "    {\n",
    "        \"Household_id\": (Household_ids),\n",
    "        \"Household_size\": (Household_sizes),\n",
    "    }\n",
    ")"
   ]
  },
  {
   "cell_type": "code",
   "execution_count": 4,
   "metadata": {},
   "outputs": [
    {
     "name": "stdout",
     "output_type": "stream",
     "text": [
      "shape: (5, 2)\n",
      "┌───────────────┬───────────┐\n",
      "│ Household_ids ┆ Person_id │\n",
      "│ ---           ┆ ---       │\n",
      "│ i64           ┆ i64       │\n",
      "╞═══════════════╪═══════════╡\n",
      "│ 1             ┆ 1         │\n",
      "│ 1             ┆ 2         │\n",
      "│ 1             ┆ 3         │\n",
      "│ 1             ┆ 4         │\n",
      "│ 1             ┆ 5         │\n",
      "└───────────────┴───────────┘\n"
     ]
    }
   ],
   "source": [
    "# Create the expanded dataset where each household ID is repeated based on the number of people\n",
    "expanded_rows = []\n",
    "for household_id, people_count in zip(Household_ids, Household_sizes):\n",
    "    for person_id in range(1, people_count + 1):\n",
    "        expanded_rows.append((household_id, person_id))\n",
    "\n",
    "# Create the full table as a polars DataFrame\n",
    "full_table = pl.DataFrame(expanded_rows, schema=[\"Household_ids\", \"Person_id\"])\n",
    "\n",
    "# Print the first few rows of the full table\n",
    "print(full_table.head())"
   ]
  },
  {
   "cell_type": "code",
   "execution_count": 5,
   "metadata": {},
   "outputs": [],
   "source": [
    "#getting the number of rows in the full table\n",
    "n_total = full_table.shape[0]\n",
    "# Generate Household_Targetted with a 70-30 probability\n",
    "Household_Targeted = np.random.choice([0, 1], size=len(Household_ids), replace=True, p=[0.70, 0.30])\n",
    "\n",
    "# Create the targets DataFrame using polars\n",
    "targets = pl.DataFrame({\n",
    "    \"Household_ids\": Household_ids,\n",
    "    \"Household_Targeted\": Household_Targeted\n",
    "})\n"
   ]
  },
  {
   "cell_type": "code",
   "execution_count": 6,
   "metadata": {},
   "outputs": [],
   "source": [
    "#merge the full table with the targets\n",
    "full_table = full_table.join(targets, on=\"Household_ids\", how=\"left\")\n",
    "#create a new column in the full table to indicate if the person is targetted\n",
    "individual_targeted = full_table[\"Household_Targeted\"] * np.random.choice([0, 1], size=full_table.shape[0], replace=True)\n",
    "full_table = full_table.with_columns(pl.Series(name=\"Individual_targeted\", values=individual_targeted))\n"
   ]
  },
  {
   "cell_type": "code",
   "execution_count": 7,
   "metadata": {},
   "outputs": [
    {
     "name": "stderr",
     "output_type": "stream",
     "text": [
      "C:\\Users\\meala\\AppData\\Local\\Temp\\ipykernel_17976\\2991560219.py:3: DeprecationWarning: `groupby` is deprecated. It has been renamed to `group_by`.\n",
      "  full_table.groupby(\"Household_ids\")\n",
      "C:\\Users\\meala\\AppData\\Local\\Temp\\ipykernel_17976\\2991560219.py:5: DeprecationWarning: `pl.count()` is deprecated. Please use `pl.len()` instead.\n",
      "  pl.count().alias(\"total\"))\n"
     ]
    }
   ],
   "source": [
    "# Calculate the proportion of targeted individuals for each household\n",
    "prop_targeted_individuals = (\n",
    "    full_table.groupby(\"Household_ids\")\n",
    "    .agg(pl.col(\"Individual_targeted\").sum().alias(\"sum_targeted\"),\n",
    "         pl.count().alias(\"total\"))\n",
    "    .with_columns((pl.col(\"sum_targeted\") / pl.col(\"total\")).alias(\"Prop\"))\n",
    "    .select([\"Household_ids\", \"Prop\"])\n",
    ")\n",
    "\n",
    "# Join the proportions back to the full table\n",
    "full_table = full_table.join(prop_targeted_individuals, on=\"Household_ids\")\n"
   ]
  },
  {
   "cell_type": "code",
   "execution_count": 8,
   "metadata": {},
   "outputs": [],
   "source": [
    "# Initialize Spending column with NaN values\n",
    "full_table = full_table.with_columns(pl.lit(None).alias(\"Spending\"))\n",
    "\n",
    "# Calculate Spending for each individual\n",
    "spending_values = []\n",
    "for i in range(full_table.shape[0]):\n",
    "    prop_value = full_table[i, \"Prop\"]\n",
    "    household_targeted_value = full_table[i, \"Household_Targeted\"]\n",
    "    individual_targeted_value = full_table[i, \"Individual_targeted\"]\n",
    "    \n",
    "    spending = (\n",
    "        np.random.normal(prop_value + 5, 2) * 2 +\n",
    "        np.random.normal(household_targeted_value + 5, 2) * 3 +\n",
    "        np.random.normal(individual_targeted_value + 5, 2) * 5\n",
    "    )\n",
    "    spending_values.append(spending)\n",
    "\n",
    "# Add the Spending column to the full_table\n",
    "full_table = full_table.with_columns(pl.Series(\"Spending\", spending_values))\n"
   ]
  },
  {
   "cell_type": "code",
   "execution_count": 9,
   "metadata": {},
   "outputs": [
    {
     "data": {
      "text/html": [
       "<div><style>\n",
       ".dataframe > thead > tr,\n",
       ".dataframe > tbody > tr {\n",
       "  text-align: right;\n",
       "  white-space: pre-wrap;\n",
       "}\n",
       "</style>\n",
       "<small>shape: (25, 6)</small><table border=\"1\" class=\"dataframe\"><thead><tr><th>Household_ids</th><th>Person_id</th><th>Household_Targeted</th><th>Individual_targeted</th><th>Prop</th><th>Spending</th></tr><tr><td>i64</td><td>i64</td><td>i32</td><td>i32</td><td>f64</td><td>f64</td></tr></thead><tbody><tr><td>1</td><td>1</td><td>1</td><td>0</td><td>0.2</td><td>35.855788</td></tr><tr><td>1</td><td>2</td><td>1</td><td>0</td><td>0.2</td><td>60.161033</td></tr><tr><td>1</td><td>3</td><td>1</td><td>0</td><td>0.2</td><td>57.036896</td></tr><tr><td>1</td><td>4</td><td>1</td><td>0</td><td>0.2</td><td>45.500101</td></tr><tr><td>1</td><td>5</td><td>1</td><td>1</td><td>0.2</td><td>81.608664</td></tr><tr><td>2</td><td>1</td><td>0</td><td>0</td><td>0.0</td><td>55.300047</td></tr><tr><td>2</td><td>2</td><td>0</td><td>0</td><td>0.0</td><td>40.061803</td></tr><tr><td>3</td><td>1</td><td>0</td><td>0</td><td>0.0</td><td>33.614603</td></tr><tr><td>3</td><td>2</td><td>0</td><td>0</td><td>0.0</td><td>34.472399</td></tr><tr><td>3</td><td>3</td><td>0</td><td>0</td><td>0.0</td><td>40.711113</td></tr><tr><td>3</td><td>4</td><td>0</td><td>0</td><td>0.0</td><td>53.153195</td></tr><tr><td>3</td><td>5</td><td>0</td><td>0</td><td>0.0</td><td>55.40288</td></tr><tr><td>4</td><td>1</td><td>0</td><td>0</td><td>0.0</td><td>26.242152</td></tr><tr><td>4</td><td>2</td><td>0</td><td>0</td><td>0.0</td><td>37.342677</td></tr><tr><td>4</td><td>3</td><td>0</td><td>0</td><td>0.0</td><td>64.057365</td></tr><tr><td>4</td><td>4</td><td>0</td><td>0</td><td>0.0</td><td>46.063736</td></tr><tr><td>4</td><td>5</td><td>0</td><td>0</td><td>0.0</td><td>45.392587</td></tr><tr><td>5</td><td>1</td><td>1</td><td>0</td><td>0.75</td><td>65.048515</td></tr><tr><td>5</td><td>2</td><td>1</td><td>1</td><td>0.75</td><td>61.201667</td></tr><tr><td>5</td><td>3</td><td>1</td><td>1</td><td>0.75</td><td>45.257992</td></tr><tr><td>5</td><td>4</td><td>1</td><td>1</td><td>0.75</td><td>48.838206</td></tr><tr><td>6</td><td>1</td><td>0</td><td>0</td><td>0.0</td><td>43.941597</td></tr><tr><td>6</td><td>2</td><td>0</td><td>0</td><td>0.0</td><td>41.954303</td></tr><tr><td>6</td><td>3</td><td>0</td><td>0</td><td>0.0</td><td>47.089836</td></tr><tr><td>6</td><td>4</td><td>0</td><td>0</td><td>0.0</td><td>52.746864</td></tr></tbody></table></div>"
      ],
      "text/plain": [
       "shape: (25, 6)\n",
       "┌───────────────┬───────────┬────────────────────┬─────────────────────┬──────┬───────────┐\n",
       "│ Household_ids ┆ Person_id ┆ Household_Targeted ┆ Individual_targeted ┆ Prop ┆ Spending  │\n",
       "│ ---           ┆ ---       ┆ ---                ┆ ---                 ┆ ---  ┆ ---       │\n",
       "│ i64           ┆ i64       ┆ i32                ┆ i32                 ┆ f64  ┆ f64       │\n",
       "╞═══════════════╪═══════════╪════════════════════╪═════════════════════╪══════╪═══════════╡\n",
       "│ 1             ┆ 1         ┆ 1                  ┆ 0                   ┆ 0.2  ┆ 35.855788 │\n",
       "│ 1             ┆ 2         ┆ 1                  ┆ 0                   ┆ 0.2  ┆ 60.161033 │\n",
       "│ 1             ┆ 3         ┆ 1                  ┆ 0                   ┆ 0.2  ┆ 57.036896 │\n",
       "│ 1             ┆ 4         ┆ 1                  ┆ 0                   ┆ 0.2  ┆ 45.500101 │\n",
       "│ 1             ┆ 5         ┆ 1                  ┆ 1                   ┆ 0.2  ┆ 81.608664 │\n",
       "│ …             ┆ …         ┆ …                  ┆ …                   ┆ …    ┆ …         │\n",
       "│ 5             ┆ 4         ┆ 1                  ┆ 1                   ┆ 0.75 ┆ 48.838206 │\n",
       "│ 6             ┆ 1         ┆ 0                  ┆ 0                   ┆ 0.0  ┆ 43.941597 │\n",
       "│ 6             ┆ 2         ┆ 0                  ┆ 0                   ┆ 0.0  ┆ 41.954303 │\n",
       "│ 6             ┆ 3         ┆ 0                  ┆ 0                   ┆ 0.0  ┆ 47.089836 │\n",
       "│ 6             ┆ 4         ┆ 0                  ┆ 0                   ┆ 0.0  ┆ 52.746864 │\n",
       "└───────────────┴───────────┴────────────────────┴─────────────────────┴──────┴───────────┘"
      ]
     },
     "execution_count": 9,
     "metadata": {},
     "output_type": "execute_result"
    }
   ],
   "source": [
    "full_table.head(25)"
   ]
  }
 ],
 "metadata": {
  "kernelspec": {
   "display_name": "base",
   "language": "python",
   "name": "python3"
  },
  "language_info": {
   "codemirror_mode": {
    "name": "ipython",
    "version": 3
   },
   "file_extension": ".py",
   "mimetype": "text/x-python",
   "name": "python",
   "nbconvert_exporter": "python",
   "pygments_lexer": "ipython3",
   "version": "3.11.5"
  }
 },
 "nbformat": 4,
 "nbformat_minor": 2
}
